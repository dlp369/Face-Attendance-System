{
 "cells": [
  {
   "cell_type": "code",
   "execution_count": 1,
   "id": "183cef4c-46bd-45d3-b466-e5df08442030",
   "metadata": {},
   "outputs": [],
   "source": [
    "import numpy as np\n",
    "import csv\n",
    "from datetime import datetime\n",
    "import face_recognition\n",
    "import os\n",
    "import cv2"
   ]
  },
  {
   "cell_type": "code",
   "execution_count": 2,
   "id": "fc62afe6-7a80-4265-b47a-31354f73e815",
   "metadata": {},
   "outputs": [],
   "source": [
    "# current working directory.\n",
    "cwd = os.getcwd()"
   ]
  },
  {
   "cell_type": "code",
   "execution_count": 3,
   "id": "0338438e-6b04-4542-8ad6-84f2e4a512a9",
   "metadata": {},
   "outputs": [],
   "source": [
    "# list to store face encodings.\n",
    "known_face_encodings = []\n",
    "\n",
    "# list to store face names.\n",
    "known_face_names = []\n",
    "\n",
    "# load image and generate encoding features for image.\n",
    "for player in os.listdir(os.path.join(cwd, \"RCB\")):\n",
    "    known_image = face_recognition.load_image_file(os.path.join(cwd, \"RCB\", player))\n",
    "    known_face_encoding = face_recognition.face_encodings(known_image)[0]\n",
    "    # append face encoding of a image to known_face_encodings list.\n",
    "    known_face_encodings.append(known_face_encoding)\n",
    "    # append label for the face encoded image.\n",
    "    known_face_names.append(player.split(\".\")[0])\n",
    "    \n",
    "    "
   ]
  },
  {
   "cell_type": "code",
   "execution_count": 4,
   "id": "8735cb18-aef4-42bc-94d1-41dcc6376c9e",
   "metadata": {},
   "outputs": [],
   "source": [
    "# creating a copy of known_face_names list\n",
    "team = known_face_names.copy()"
   ]
  },
  {
   "cell_type": "code",
   "execution_count": 5,
   "id": "82798684-81d4-4f78-a9eb-e67d0e2f5d23",
   "metadata": {},
   "outputs": [
    {
     "data": {
      "text/plain": [
       "21"
      ]
     },
     "execution_count": 5,
     "metadata": {},
     "output_type": "execute_result"
    }
   ],
   "source": [
    "# create a csv file to store the attendance record.\n",
    "# name of the file will be the date of attendance.\n",
    "now = datetime.now()\n",
    "today_date = now.strftime(\"%d-%m-%Y\")\n",
    "file = open(today_date+\" - video1_output\"+\".csv\", \"w+\", newline = \"\")\n",
    "lnwriter = csv.writer(file)\n",
    "lnwriter.writerow([\"Player\", \"Arrival Time\"])"
   ]
  },
  {
   "cell_type": "code",
   "execution_count": 6,
   "id": "2363bc85-32ea-4c73-a99b-28bc39a86302",
   "metadata": {},
   "outputs": [
    {
     "name": "stdout",
     "output_type": "stream",
     "text": [
      "18:56:38\n",
      "Yash Dayal\n",
      "18:57:20\n",
      "Faf du Plessis\n",
      "18:57:42\n",
      "Mohammed Siraj\n",
      "18:57:58\n",
      "Andy Flower\n",
      "18:58:46\n",
      "Lockie Ferguson\n",
      "18:58:51\n",
      "Will Jacks\n",
      "18:58:58\n",
      "Akash Deep\n",
      "18:58:59\n",
      "Rajan Kumar\n",
      "18:59:08\n",
      "Swapnil Singh\n",
      "18:59:08\n",
      "Karn Sharma\n",
      "18:59:49\n",
      "Malolan Rangarajan\n",
      "19:02:05\n",
      "Mo Bobat\n",
      "19:02:17\n",
      "Virat Kohli\n",
      "19:02:29\n",
      "Mahipal Lomror\n",
      "19:04:55\n",
      "Neil Mckenzie\n",
      "19:08:14\n",
      "Alzarri Joseph\n",
      "19:08:18\n",
      "Rajat Patidar\n",
      "19:12:18\n",
      "Tom Curran\n",
      "19:14:57\n",
      "Vyshak Vijay Kumar\n",
      "19:16:37\n",
      "Suyash S Prabhudessai\n"
     ]
    }
   ],
   "source": [
    "# initialize variable to store face names captured from frames.\n",
    "face_names = []\n",
    "\n",
    "# open the video file\n",
    "cap = cv2.VideoCapture('video1_input.mp4')\n",
    "\n",
    "# get the frame rate of the video\n",
    "fps = cap.get(cv2.CAP_PROP_FPS)\n",
    "\n",
    "# get the width and height of the video\n",
    "frame_width = int(cap.get(cv2.CAP_PROP_FRAME_WIDTH))\n",
    "frame_height = int(cap.get(cv2.CAP_PROP_FRAME_HEIGHT))\n",
    "\n",
    "# define the codec and create VideoWriter object\n",
    "fourcc = cv2.VideoWriter_fourcc(*'XVID')\n",
    "out = cv2.VideoWriter('video1_output.avi', fourcc, fps, (frame_width, frame_height))\n",
    "\n",
    "try:\n",
    "    while True:\n",
    "        flag, frame = cap.read()\n",
    "        if flag == False:\n",
    "            break\n",
    "        else:\n",
    "            # resize the frame of the video to 1/4 of the original size for faster face recognition process.\n",
    "            small_frame = cv2.resize(frame, (0,0), fx = 0.25, fy = 0.25)\n",
    "            # face recogition lib works with RGB format of the color image.\n",
    "            rgb_small_frame = cv2.cvtColor(small_frame, cv2.COLOR_BGR2RGB)\n",
    "        \n",
    "            # finding the face locations in the frame and then generating face encodings.\n",
    "            face_locations = face_recognition.face_locations(rgb_small_frame)\n",
    "            face_encodings = face_recognition.face_encodings(rgb_small_frame, face_locations)\n",
    "        \n",
    "            for face_encoding in face_encodings:\n",
    "                # checking if faces in frame matches the known faces.\n",
    "                matches = face_recognition.compare_faces(known_face_encodings, face_encoding)\n",
    "                name = \"\"\n",
    "                # calculating the distance b/w known faces and new faces.\n",
    "                face_distances = face_recognition.face_distance(known_face_encodings, face_encoding)\n",
    "                best_match_index = np.argmin(face_distances)\n",
    "                # finding index position of matched/less distance known face.\n",
    "                if matches[best_match_index]:\n",
    "                    name = known_face_names[best_match_index]\n",
    "                # append the face name to the list.\n",
    "                face_names.append(name)\n",
    "    \n",
    "                # writing the name and time of detection to the csv file.\n",
    "                # also ensuring that a face info(name, time) is not recored more than once.\n",
    "                if name in known_face_names:\n",
    "                    if name in team:\n",
    "                        current_datetime = datetime.now()\n",
    "                        current_time = current_datetime.strftime(\"%H:%M:%S\")\n",
    "                        print(current_time)\n",
    "                        lnwriter.writerow([name, current_time])\n",
    "                        team.remove(name)\n",
    "                        print(name)\n",
    "        \n",
    "            # draw bounding box and put text.\n",
    "            for (top, right, bottom, left), name in zip(face_locations, face_names):\n",
    "                # scale back up face locations since the frame we detected in was scaled to 1/4 size.\n",
    "                top *= 4\n",
    "                right *= 4\n",
    "                bottom *= 4\n",
    "                left *= 4\n",
    "        \n",
    "                # draw a box around the face.\n",
    "                cv2.rectangle(frame, (left, top), (right, bottom), (0, 255, 0), 2)\n",
    "        \n",
    "                # add a label with a name above the face.\n",
    "                font = cv2.FONT_HERSHEY_DUPLEX\n",
    "                cv2.putText(frame, name, (left-10, top-10), font, 1.5, (0, 69, 255), 2)\n",
    "            \n",
    "            # clear the face_names list.\n",
    "            face_names.clear()\n",
    "            \n",
    "            # write the operated frame to the output video\n",
    "            out.write(frame)\n",
    "            \n",
    "            # display the resulting image.\n",
    "            cv2.imshow('Attendance System', frame)\n",
    "        \n",
    "            # hit 'q' on the keyboard to quit.\n",
    "            if cv2.waitKey(1) & 0xFF == ord('q'):\n",
    "                break\n",
    "finally:\n",
    "    # close file\n",
    "    file.close()\n",
    "    # release everything if job is finished\n",
    "    cap.release()\n",
    "    out.release()\n",
    "    # close all windows\n",
    "    cv2.destroyAllWindows()\n"
   ]
  },
  {
   "cell_type": "code",
   "execution_count": null,
   "id": "011181dc-26d1-4da3-bed2-0dab0385cbb1",
   "metadata": {},
   "outputs": [],
   "source": []
  }
 ],
 "metadata": {
  "kernelspec": {
   "display_name": "Python 3 (ipykernel)",
   "language": "python",
   "name": "python3"
  },
  "language_info": {
   "codemirror_mode": {
    "name": "ipython",
    "version": 3
   },
   "file_extension": ".py",
   "mimetype": "text/x-python",
   "name": "python",
   "nbconvert_exporter": "python",
   "pygments_lexer": "ipython3",
   "version": "3.11.7"
  }
 },
 "nbformat": 4,
 "nbformat_minor": 5
}
